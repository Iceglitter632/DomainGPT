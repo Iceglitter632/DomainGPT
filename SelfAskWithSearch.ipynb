{
 "cells": [
  {
   "cell_type": "code",
   "execution_count": 2,
   "id": "c8b58c31-c413-4574-bb0f-ccea7d1c4c9a",
   "metadata": {},
   "outputs": [],
   "source": [
    "import os\n",
    "os.environ[\"OPENAI_API_KEY\"] = \"\"\n",
    "os.environ[\"SERPAPI_API_KEY\"] = \"\""
   ]
  },
  {
   "cell_type": "code",
   "execution_count": 3,
   "id": "1bc5d1c2-0881-4377-a5e9-d85dd699f2c9",
   "metadata": {},
   "outputs": [],
   "source": [
    "from langchain import OpenAI, SerpAPIWrapper\n",
    "from langchain.agents import initialize_agent, Tool\n",
    "from langchain.agents import AgentType\n",
    "\n",
    "llm = OpenAI(temperature=0)"
   ]
  },
  {
   "cell_type": "raw",
   "id": "bfc31b64-74b3-4e58-8f47-aa82ff0e80f1",
   "metadata": {},
   "source": [
    "\n",
    "from langchain.prompts.prompt import PromptTemplate\r\n",
    "\r\n",
    "_DEFAULT_TEMPLATE = \"\"\"Question: Who lived longer, Muhammad Ali or Alan Turing?\r\n",
    "Are follow up questions needed here: Yes.\r\n",
    "Follow up: How old was Muhammad Ali when he died?\r\n",
    "Intermediate answer: Muhammad Ali was 74 years old when he died.\r\n",
    "Follow up: How old was Alan Turing when he died?\r\n",
    "Intermediate answer: Alan Turing was 41 years old when he died.\r\n",
    "So the final answer is: Muhammad Ali\r\n",
    "\r\n",
    "Question: When was the founder of craigslist born?\r\n",
    "Are follow up questions needed here: Yes.\r\n",
    "Follow up: Who was the founder of craigslist?\r\n",
    "Intermediate answer: Craigslist was founded by Craig Newmark.\r\n",
    "Follow up: When was Craig Newmark born?\r\n",
    "Intermediate answer: Craig Newmark was born on December 6, 1952.\r\n",
    "So the final answer is: December 6, 1952\r\n",
    "\r\n",
    "Question: Who was the maternal grandfather of George Washington?\r\n",
    "Are follow up questions needed here: Yes.\r\n",
    "Follow up: Who was the mother of George Washington?\r\n",
    "Intermediate answer: The mother of George Washington was Mary Ball Washington.\r\n",
    "Follow up: Who was the father of Mary Ball Washington?\r\n",
    "Intermediate answer: The father of Mary Ball Washington was Joseph Ball.\r\n",
    "So the final answer is: Joseph Ball\r\n",
    "\r\n",
    "Question: Are both the directors of Jaws and Casino Royale from the same country?\r\n",
    "Are follow up questions needed here: Yes.\r\n",
    "Follow up: Who is the director of Jaws?\r\n",
    "Intermediate answer: The director of Jaws is Steven Spielberg.\r\n",
    "Follow up: Where is Steven Spielberg from?\r\n",
    "Intermediate answer: The United States.\r\n",
    "Follow up: Who is the director of Casino Royale?\r\n",
    "Intermediate answer: The director of Casino Royale is Martin Campbell.\r\n",
    "Follow up: Where is Martin Campbell from?\r\n",
    "Intermediate answer: Newoo Zealand.\r\n",
    "So the fial answer is N\n",
    "\r\n",
    "Question: {aut}\r",
    " followup que\n",
    "stchpad\"], template=_DEFAULT_TEMPLATE\r\n",
    ")"
   ]
  },
  {
   "cell_type": "markdown",
   "id": "f74e98f7-be27-408e-8c37-042d94a19adf",
   "metadata": {},
   "source": [
    "### SerpAPI\n",
    "* A search engine. Useful for when you need to answer questions about current events.\n",
    "\n",
    "### Tool\n",
    "> The ‘Tool’ dataclass wraps functions that accept a single string input and returns a string output.\n",
    "\n",
    "   #### params:\n",
    "* name: a unique name given to each tool, has to be named intermediate answer in this example\n",
    "``` python\n",
    " @property\r",
    " def observation_prefix(self) -> str:\r\n",
    "    \"\"\"Prefix to append the observation with.\"\"\"\r\n",
    "    return \"Intermediate answer\n",
    "```: \""
   ]
  },
  {
   "cell_type": "code",
   "execution_count": 4,
   "id": "d0edeac1-fa98-4347-a14b-d83709f8d93d",
   "metadata": {},
   "outputs": [],
   "source": [
    "search = SerpAPIWrapper()\n",
    "tools = [\n",
    "    Tool(\n",
    "        name=\"Intermediate Answer\",\n",
    "        func=search.run,\n",
    "        description=\"useful for when you need to ask with search\"\n",
    "    )\n",
    "]\n",
    "\n",
    "# tools = []"
   ]
  },
  {
   "cell_type": "code",
   "execution_count": 5,
   "id": "9c0b59d8-d0de-4acb-b1a6-3b2ba5600b3a",
   "metadata": {},
   "outputs": [],
   "source": [
    "self_ask_with_search = initialize_agent(tools, llm, agent=AgentType.SELF_ASK_WITH_SEARCH, verbose=True, return_intermediate_steps=True)\n",
    "question = \"What is the hometown of the reigning men's U.S. Open champion?\""
   ]
  },
  {
   "cell_type": "code",
   "execution_count": 7,
   "id": "e3fe51a0-d718-4c13-931b-5a44fc9e2b2c",
   "metadata": {},
   "outputs": [
    {
     "name": "stdout",
     "output_type": "stream",
     "text": [
      "\n",
      "\n",
      "\u001b[1m> Entering new AgentExecutor chain...\u001b[0m\n",
      "\u001b[32;1m\u001b[1;3m Yes.\n",
      "Follow up: Who is the reigning men's U.S. Open champion?\u001b[0m\n",
      "Intermediate answer: \u001b[36;1m\u001b[1;3mUS OpenEdit ; 1984. USA, John McEnroe ; 1985 · TCH · Ivan Lendl ; 1986 · TCH · Ivan Lendl ; 1987 · TCH · Ivan Lendl.\u001b[0m\n",
      "\u001b[32;1m\u001b[1;3mFollow up: Where is John McEnroe from?\u001b[0m\n",
      "Intermediate answer: \u001b[36;1m\u001b[1;3mWiesbaden, Germany\u001b[0m\n",
      "\u001b[32;1m\u001b[1;3mSo the final answer is: Wiesbaden, Germany\u001b[0m\n",
      "\n",
      "\u001b[1m> Finished chain.\u001b[0m\n"
     ]
    }
   ],
   "source": [
    "response = self_ask_with_search({\"input\":question})"
   ]
  },
  {
   "cell_type": "markdown",
   "id": "3dc9821d-b977-4777-9a91-fd11cffe3aad",
   "metadata": {},
   "source": [
    "## whether or not call intermediate step\n",
    "\n",
    "`_call`\n",
    "```python\n",
    "while self._should_continue(iterations, time_elapsed):\n",
    "        next_step_output = self._take_next_step(\n",
    "            name_to_tool_map, color_mapping, inputs, intermediate_steps\n",
    "        )\n",
    "        if isinstance(next_step_output, AgentFinish):\n",
    "            return self._return(next_step_output, intermediate_steps)\n",
    "```\n",
    "\n",
    "`_take_next_step`\n",
    "* if `return = AGENT_FINISH` 則FINISH\n",
    "* if `return = AGENT_ACTION` 則使用TOOLS\n",
    "* 詢問llm要return什麼東西\n",
    "\n",
    "### Scratchpad\n",
    "```python\n",
    "def _construct_scratchpad(\n",
    "        self, intermediate_steps: List[Tuple[AgentAction, str]]\n",
    "    ) -> Union[str, List[BaseMessage]]:\n",
    "        \"\"\"Construct the scratchpad that lets the agent continue its thought process.\"\"\"\n",
    "        thoughts = \"\"\n",
    "        for action, observation in intermediate_steps:\n",
    "            thoughts += action.log\n",
    "            thoughts += f\"\\n{self.observation_prefix}{observation}\\n{self.llm_prefix}\"\n",
    "        return thoughts\n",
    "```"
   ]
  },
  {
   "cell_type": "code",
   "execution_count": 10,
   "id": "3f7db476-a146-49e7-a6e8-6fbf8192b54a",
   "metadata": {},
   "outputs": [
    {
     "data": {
      "text/plain": [
       "{'input': \"What is the hometown of the reigning men's U.S. Open champion?\",\n",
       " 'output': 'Wiesbaden, Germany',\n",
       " 'intermediate_steps': [(AgentAction(tool='Intermediate Answer', tool_input=\"Who is the reigning men's U.S. Open champion?\", log=\" Yes.\\nFollow up: Who is the reigning men's U.S. Open champion?\"),\n",
       "   'US OpenEdit ; 1984. USA, John McEnroe ; 1985 · TCH · Ivan Lendl ; 1986 · TCH · Ivan Lendl ; 1987 · TCH · Ivan Lendl.'),\n",
       "  (AgentAction(tool='Intermediate Answer', tool_input='Where is John McEnroe from?', log='Follow up: Where is John McEnroe from?'),\n",
       "   'Wiesbaden, Germany')]}"
      ]
     },
     "execution_count": 10,
     "metadata": {},
     "output_type": "execute_result"
    }
   ],
   "source": [
    "response"
   ]
  },
  {
   "cell_type": "code",
   "execution_count": 11,
   "id": "a0f0e894-e941-4c17-889e-d3905b1c466a",
   "metadata": {},
   "outputs": [
    {
     "data": {
      "text/plain": [
       "[(AgentAction(tool='Intermediate Answer', tool_input=\"Who is the reigning men's U.S. Open champion?\", log=\" Yes.\\nFollow up: Who is the reigning men's U.S. Open champion?\"),\n",
       "  'US OpenEdit ; 1984. USA, John McEnroe ; 1985 · TCH · Ivan Lendl ; 1986 · TCH · Ivan Lendl ; 1987 · TCH · Ivan Lendl.'),\n",
       " (AgentAction(tool='Intermediate Answer', tool_input='Where is John McEnroe from?', log='Follow up: Where is John McEnroe from?'),\n",
       "  'Wiesbaden, Germany')]"
      ]
     },
     "execution_count": 11,
     "metadata": {},
     "output_type": "execute_result"
    }
   ],
   "source": [
    "response['intermediate_steps']"
   ]
  },
  {
   "cell_type": "markdown",
   "id": "da8514f7-02b6-4677-80c4-7ecd6c64b384",
   "metadata": {},
   "source": [
    "### Alternatives"
   ]
  },
  {
   "cell_type": "code",
   "execution_count": 15,
   "id": "f61c4bac-70d8-4116-8b28-06ff5e9a464e",
   "metadata": {},
   "outputs": [],
   "source": [
    "from langchain import SelfAskWithSearchChain"
   ]
  },
  {
   "cell_type": "code",
   "execution_count": 17,
   "id": "2dcfa7b3-08cf-42f7-9083-1caba7834548",
   "metadata": {},
   "outputs": [],
   "source": [
    "self_ask = SelfAskWithSearchChain(llm=llm, search_chain=search, verbose=True, return_intermediate_steps=True)"
   ]
  },
  {
   "cell_type": "code",
   "execution_count": 18,
   "id": "1d5d2992-1049-4845-928d-1dadce111e50",
   "metadata": {},
   "outputs": [
    {
     "name": "stdout",
     "output_type": "stream",
     "text": [
      "\n",
      "\n",
      "\u001b[1m> Entering new SelfAskWithSearchChain chain...\u001b[0m\n",
      "\u001b[32;1m\u001b[1;3m Yes.\n",
      "Follow up: Who is the reigning men's U.S. Open champion?\u001b[0m\n",
      "Intermediate answer: \u001b[36;1m\u001b[1;3mUS OpenEdit ; 1984. USA, John McEnroe ; 1985 · TCH · Ivan Lendl ; 1986 · TCH · Ivan Lendl ; 1987 · TCH · Ivan Lendl.\u001b[0m\n",
      "\u001b[32;1m\u001b[1;3mFollow up: Where is John McEnroe from?\u001b[0m\n",
      "Intermediate answer: \u001b[36;1m\u001b[1;3mWiesbaden, Germany\u001b[0m\n",
      "\u001b[32;1m\u001b[1;3mSo the final answer is: Wiesbaden, Germany\u001b[0m\n",
      "\n",
      "\u001b[1m> Finished chain.\u001b[0m\n"
     ]
    }
   ],
   "source": [
    "response1 = self_ask(question)"
   ]
  },
  {
   "cell_type": "code",
   "execution_count": 19,
   "id": "b1e2374a-46fc-47cf-8da2-ea2b5c77625f",
   "metadata": {},
   "outputs": [
    {
     "data": {
      "text/plain": [
       "{'input': \"What is the hometown of the reigning men's U.S. Open champion?\",\n",
       " 'output': 'Wiesbaden, Germany',\n",
       " 'intermediate_steps': [(AgentAction(tool='Intermediate Answer', tool_input=\"Who is the reigning men's U.S. Open champion?\", log=\" Yes.\\nFollow up: Who is the reigning men's U.S. Open champion?\"),\n",
       "   'US OpenEdit ; 1984. USA, John McEnroe ; 1985 · TCH · Ivan Lendl ; 1986 · TCH · Ivan Lendl ; 1987 · TCH · Ivan Lendl.'),\n",
       "  (AgentAction(tool='Intermediate Answer', tool_input='Where is John McEnroe from?', log='Follow up: Where is John McEnroe from?'),\n",
       "   'Wiesbaden, Germany')]}"
      ]
     },
     "execution_count": 19,
     "metadata": {},
     "output_type": "execute_result"
    }
   ],
   "source": [
    "response1"
   ]
  },
  {
   "cell_type": "code",
   "execution_count": null,
   "id": "e205cc11-410c-4f3a-9032-10c452f8d251",
   "metadata": {},
   "outputs": [],
   "source": []
  }
 ],
 "metadata": {
  "kernelspec": {
   "display_name": "agi",
   "language": "python",
   "name": "agi"
  },
  "language_info": {
   "codemirror_mode": {
    "name": "ipython",
    "version": 3
   },
   "file_extension": ".py",
   "mimetype": "text/x-python",
   "name": "python",
   "nbconvert_exporter": "python",
   "pygments_lexer": "ipython3",
   "version": "3.11.3"
  }
 },
 "nbformat": 4,
 "nbformat_minor": 5
}
