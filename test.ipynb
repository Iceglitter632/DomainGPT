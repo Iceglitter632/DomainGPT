{
 "cells": [
  {
   "cell_type": "code",
   "execution_count": null,
   "id": "c3c68cf2-63a6-4efd-9b1d-1c2bad7429d0",
   "metadata": {},
   "outputs": [],
   "source": [
    "import os\n",
    "\n",
    "os.environ[\"CUDA_VISIBLE_DEVICES\"]=\"0\""
   ]
  },
  {
   "cell_type": "code",
   "execution_count": null,
   "id": "b997a049-5b6b-4fac-a394-0ecf2713ee1d",
   "metadata": {},
   "outputs": [],
   "source": [
    "from transformers import AutoTokenizer, AutoModelForCausalLM\n",
    "import transformers\n",
    "import torch"
   ]
  },
  {
   "cell_type": "code",
   "execution_count": null,
   "id": "7ca1af37-e62f-4197-8613-cf140d56ae4d",
   "metadata": {},
   "outputs": [],
   "source": [
    "# model = \"tiiuae/falcon-40b\"\n",
    "model = \"google/flan-t5-xl\"\n",
    "\n",
    "tokenizer = AutoTokenizer.from_pretrained(model)"
   ]
  },
  {
   "cell_type": "code",
   "execution_count": null,
   "id": "d8d6c71a-f3bf-460d-861e-4eaac66ece86",
   "metadata": {},
   "outputs": [],
   "source": [
    "pipeline = transformers.pipeline(\n",
    "    \"text2text-generation\",\n",
    "    model=model,\n",
    "    tokenizer=tokenizer,\n",
    "    torch_dtype=torch.bfloat16,\n",
    "    trust_remote_code=True,\n",
    "    device_map=\"auto\",\n",
    ")"
   ]
  },
  {
   "cell_type": "code",
   "execution_count": null,
   "id": "b951e37a-06e0-42b1-8444-032c1545ad60",
   "metadata": {},
   "outputs": [],
   "source": [
    "sequences = pipeline(\n",
    "   \"give me some sunshine, give me some rain\",\n",
    "    max_length=200,\n",
    "    do_sample=True,\n",
    "    top_k=10,\n",
    "    num_return_sequences=2,\n",
    "    eos_token_id=tokenizer.eos_token_id,\n",
    ")\n",
    "for seq in sequences:\n",
    "    print(f\"Result: {seq['generated_text']}\")"
   ]
  },
  {
   "cell_type": "code",
   "execution_count": null,
   "id": "9b2d4202-d348-4792-bab2-e43cafe3341f",
   "metadata": {},
   "outputs": [],
   "source": [
    "prompt = \"who are you\""
   ]
  },
  {
   "cell_type": "code",
   "execution_count": null,
   "id": "f3f6290e-f397-4bc3-850d-ce4b613b8d10",
   "metadata": {},
   "outputs": [],
   "source": [
    "print(pipeline(prompt))"
   ]
  },
  {
   "cell_type": "code",
   "execution_count": null,
   "id": "ab3c1f96-15b8-4f09-a34b-3998f7849fb2",
   "metadata": {},
   "outputs": [],
   "source": []
  }
 ],
 "metadata": {
  "kernelspec": {
   "display_name": "agi",
   "language": "python",
   "name": "agi"
  },
  "language_info": {
   "codemirror_mode": {
    "name": "ipython",
    "version": 3
   },
   "file_extension": ".py",
   "mimetype": "text/x-python",
   "name": "python",
   "nbconvert_exporter": "python",
   "pygments_lexer": "ipython3",
   "version": "3.11.3"
  }
 },
 "nbformat": 4,
 "nbformat_minor": 5
}
