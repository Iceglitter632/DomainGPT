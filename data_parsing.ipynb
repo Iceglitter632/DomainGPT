{
 "cells": [
  {
   "cell_type": "code",
   "execution_count": 20,
   "id": "49b38dab-f11b-4ed4-80d9-a8182f2310f5",
   "metadata": {},
   "outputs": [],
   "source": [
    "new_api_key = '1f8e0a7d3d614aa88db4196f08de82c9'"
   ]
  },
  {
   "cell_type": "code",
   "execution_count": 21,
   "id": "a4e2654f-d875-4ebd-bedd-75464e636db9",
   "metadata": {},
   "outputs": [],
   "source": [
    "from newsapi import NewsApiClient"
   ]
  },
  {
   "cell_type": "code",
   "execution_count": 22,
   "id": "fab2d40c-5e7d-47f9-bb84-6f6fffed59a6",
   "metadata": {},
   "outputs": [],
   "source": [
    "api = NewsApiClient(api_key=new_api_key)"
   ]
  },
  {
   "cell_type": "code",
   "execution_count": 30,
   "id": "c752b04f-8530-4fe6-98d9-b780a579e22b",
   "metadata": {},
   "outputs": [],
   "source": [
    "r = api.get_top_headlines(sources='bbc-news')['articles']"
   ]
  },
  {
   "cell_type": "code",
   "execution_count": 32,
   "id": "675f960a-34c3-417f-bd2a-e043a4859f4a",
   "metadata": {},
   "outputs": [
    {
     "data": {
      "text/plain": [
       "\"Laurence in NeuillyImage caption: Laurence in Neuilly\\r\\nThe suburb of Neuilly-sur-Seine is a far cry from Nanterre, where\\r\\nthe protests have been centred.\\r\\nAlthough it's only about 5km (three miles) a… [+1013 chars]\""
      ]
     },
     "execution_count": 32,
     "metadata": {},
     "output_type": "execute_result"
    }
   ],
   "source": [
    "r[0]['content']"
   ]
  },
  {
   "cell_type": "code",
   "execution_count": 39,
   "id": "d8379050-cb34-480c-aac9-09db8cffd046",
   "metadata": {},
   "outputs": [],
   "source": [
    "import fitz\n",
    "pdf_root = './data/pdf'\n",
    "txt_root = './data/txt'"
   ]
  },
  {
   "cell_type": "code",
   "execution_count": null,
   "id": "a7869f9e-6807-4945-b927-3cbe19c0d648",
   "metadata": {},
   "outputs": [],
   "source": [
    "class MyDataset(Dataset):\n",
    "    def __init__(self, tokenizer, file_path, block_size):\n",
    "        super().__init__()\n",
    "\n",
    "        self.tokenizer = tokenizer\n",
    "        self.block_size = block_size\n",
    "\n",
    "        with open(file_path, 'r') as f:\n",
    "            lines = f.read().splitlines()\n",
    "\n",
    "        # Split long lines into smaller parts\n",
    "        lines = [line[i:i+block_size] for line in lines for i in range(0, len(line), block_size)]\n",
    "\n",
    "        self.examples = [tokenizer.encode(line) for line in lines]\n",
    "\n",
    "    def __len__(self):\n",
    "        return len(self.examples)\n",
    "\n",
    "    def __getitem__(self, i):\n",
    "        input_ids = self.examples[i][:self.block_size]\n",
    "        target_ids = self.examples[i][1:self.block_size+1]  # Shifted right\n",
    "\n",
    "        # Pad input and target sequences to the block size\n",
    "        input_ids = input_ids + [self.tokenizer.pad_token_id] * (self.block_size - len(input_ids))\n",
    "        target_ids = target_ids + [-100] * (self.block_size - len(target_ids))  # -100 is the index that PyTorch uses to ignore a token in loss computation\n",
    "\n",
    "        return {\n",
    "            'input_ids': input_ids,\n",
    "            'labels': target_ids,\n",
    "        }\n"
   ]
  },
  {
   "cell_type": "code",
   "execution_count": 40,
   "id": "e9f77dfc-04f1-4e56-9f55-3a835dadc394",
   "metadata": {},
   "outputs": [
    {
     "name": "stdout",
     "output_type": "stream",
     "text": [
      "['SymbolicMath.pdf', 'RoBert.pdf', 'GraphNN.pdf', 'Bert.pdf', 'attention_is_all_you_need.pdf', 'EffecientNet.pdf', 'XLNet.pdf', 'TrainableNN.pdf', 'GAN.pdf', 'CNN.pdf']\n"
     ]
    }
   ],
   "source": [
    "import os\n",
    "\n",
    "print(os.listdir(root))"
   ]
  },
  {
   "cell_type": "code",
   "execution_count": null,
   "id": "09cce7c4-ebfe-4a1f-81ff-018290f7703b",
   "metadata": {},
   "outputs": [],
   "source": []
  }
 ],
 "metadata": {
  "kernelspec": {
   "display_name": "agi",
   "language": "python",
   "name": "agi"
  },
  "language_info": {
   "codemirror_mode": {
    "name": "ipython",
    "version": 3
   },
   "file_extension": ".py",
   "mimetype": "text/x-python",
   "name": "python",
   "nbconvert_exporter": "python",
   "pygments_lexer": "ipython3",
   "version": "3.11.3"
  }
 },
 "nbformat": 4,
 "nbformat_minor": 5
}
