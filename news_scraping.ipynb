{
 "cells": [
  {
   "cell_type": "code",
   "execution_count": 1,
   "id": "26aa7d5e-be46-4213-af13-599a05d5e05f",
   "metadata": {},
   "outputs": [],
   "source": [
    "# NEWSAPI_KEY = ''"
   ]
  },
  {
   "cell_type": "code",
   "execution_count": 2,
   "id": "41bc2be2-12c4-4049-a678-83c914f0a928",
   "metadata": {},
   "outputs": [],
   "source": [
    "PAGESIZE=20\n",
    "NUM_QUESTIONS = 3"
   ]
  },
  {
   "cell_type": "code",
   "execution_count": 3,
   "id": "a90e18d7-ebfc-4fb6-af7f-abbf06cc73bc",
   "metadata": {},
   "outputs": [],
   "source": [
    "from newspaper import Article\n",
    "import requests\n",
    "import json\n",
    "\n",
    "def get_news(api, pagesize=20):\n",
    "    url = \"https://newsapi.org/v2/everything?\"\n",
    "\n",
    "    # Specify the query and number of returns\n",
    "    parameters = {\n",
    "        'q': 'finance OR economics OR bitcoin', # query phrase\n",
    "        'pageSize': pagesize,  # maximum is 100\n",
    "        'apiKey': api, # your own API key\n",
    "    }\n",
    "\n",
    "    # Make the request\n",
    "    response = requests.get(url, params=parameters)\n",
    "\n",
    "    # Convert the response to JSON format\n",
    "    data = response.json()\n",
    "\n",
    "    news_dict = {}\n",
    "    news_list = []\n",
    "    for article in data[\"articles\"]:\n",
    "        # Use newspaper3k to extract text\n",
    "        news_article = Article(article[\"url\"])\n",
    "        news_article.download()\n",
    "        news_article.parse()\n",
    "        news_dict[article[\"url\"]] = news_article.text\n",
    "        news_list.append(news_article.text)\n",
    "        \n",
    "    return news_list, news_dict"
   ]
  },
  {
   "cell_type": "code",
   "execution_count": 5,
   "id": "44c839de-2710-40c8-b351-d0e3eeb55ef6",
   "metadata": {},
   "outputs": [],
   "source": [
    "news_list, news_dict = get_news(NEWSAPI_KEY, PAGESIZE)"
   ]
  },
  {
   "cell_type": "code",
   "execution_count": 6,
   "id": "6df03e62-3e23-4557-a08d-b4272dc6d0a2",
   "metadata": {},
   "outputs": [
    {
     "name": "stdout",
     "output_type": "stream",
     "text": [
      "news from https://lifehacker.com/what-to-do-when-a-contractor-ghosts-you-mid-project-1850674402\n",
      "--------------------------------------------\n",
      "When you’re ready to tackle a big home renovation or repair, finding a good contractor is a challenge . Getting one to even give you the time of day can be harder than you might think, i n part because of a shortage of skilled tradespeople, and in part because of the economics of construction—your dinky little half bath reno simply may not be profitable enough for an established, busy contractor. This might lead you to hire someone who is a bit less established, which in turn can lead to the nightmare scenario in which they ghost you after starting the work, leaving you with a mess.\n",
      "\n",
      "\n",
      "\n",
      "If you skipped some of your due diligence in your rush to hire someone, it’s too late to go back and do that now. But there are steps you can take when a contractor vanishes.\n",
      "\n",
      "Read your contract and s tart a paper trail\n",
      "\n",
      "First things first: Read your contract. Unless you hired someone under the table and off the books, you have some sort of written agreement with your contractor, and that agreement will detail things like deficient work and non-performance, as well as the precise procedure for ending the contract and essentially firing the contractor. Even though you might be outraged and angry about your contractor’s behavior, you’re still bound by this agreement, and going rogue could cost you, so pay attention.\n",
      "\n",
      "Next, ensure that everything you do from this point forward is documented. Send your contractor a written account of what’s not finished, what they’ve been paid for, and what’s scheduled to happen next. Note any deficient work (unfinished items or poor workmanship) and specify how you want it rectified. Then ask them to respond with a detailed schedule for finishing the work and how they’ll fix the problems.\n",
      "\n",
      "If they respond with a reasonable explanation and address your concerns, you’ll have to do a vibe check to decide if you want to proceed. Even if their explanation is acceptable, don’t agree to pay anything more until the work they’ve already begun is finished. If you have a contract with a schedule of payments tied to finished work—insist on sticking to that. If you don’t have a contract or it doesn’t have a clear schedule, insist that any discussion of payments comes after they’ve finished what they started.\n",
      "\n",
      "If you get no response, or the response isn’t satisfactory, refer to your contract and terminate it according to its terms. This probably means writing a formal letter. Once that’s done, your next steps depend on whether the contractor owes you money.\n",
      "\n",
      "Hire a new contractor to finish the job\n",
      "\n",
      "If your old contractor left your project at a clear stopping point and the materials and labor you’ve already paid for are complete and accounted for, all you need to do now is find someone to finish the job. This won’t be any easier than it was to hire the first contractor, but if you didn’t have a formal contract or didn’t do things like check their bond and license status, get references, or have a clear schedule of work and payments, now is your chance to do it right the second time.\n",
      "\n",
      "Leave them a r eview to warn others\n",
      "\n",
      "Once you’ve severed your relationship with your ghosting contractor, you might consider warning others via the magic of online reviews. If you found your contractor through a service like Angi or HomeAdvisor, leaving negative feedback might save someone else the heartache of hiring this contractor in the future. You could also track down their Google profile or Yelp listing to warn off others.\n",
      "\n",
      "You can also consider filing a complaint with the Better Business Bureau, though this isn’t any more effective than leaving reviews elsewhere—but spreading the word about this contractor as far and wide as possible may help your others these problems in the future.\n",
      "\n",
      "What to do if you already paid a contractor who ghosts you\n",
      "\n",
      "If your contractor owes you work or money, you have two avenues to pursue:\n"
     ]
    }
   ],
   "source": [
    "urls = list(news_dict.keys())\n",
    "idx = 0\n",
    "print(f'news from {urls[idx]}')\n",
    "print('--------------------------------------------')\n",
    "print(news_dict[urls[idx]])"
   ]
  },
  {
   "cell_type": "code",
   "execution_count": 7,
   "id": "c5a6161d-a1dc-4f21-807e-7e42d0cc6ff7",
   "metadata": {},
   "outputs": [],
   "source": [
    "# generate questions from context\n",
    "import torch\n",
    "from transformers import AutoTokenizer, AutoModelForSeq2SeqLM\n",
    "\n",
    "device = \"cuda\" if torch.cuda.is_available else \"cpu\"\n",
    "\n",
    "tokenizer = AutoTokenizer.from_pretrained(\"voidful/bart-eqg-question-generator\")\n",
    "model = AutoModelForSeq2SeqLM.from_pretrained(\"voidful/bart-eqg-question-generator\").to(device)"
   ]
  },
  {
   "cell_type": "code",
   "execution_count": 8,
   "id": "9339b3fa-718a-43bf-84d3-cb94c1284422",
   "metadata": {},
   "outputs": [],
   "source": [
    "tokens = tokenizer(news_list, padding=True, truncation=True, return_tensors=\"pt\").to(device)"
   ]
  },
  {
   "cell_type": "code",
   "execution_count": 9,
   "id": "360758f2-fcba-4427-8d78-7c06b2885eb7",
   "metadata": {},
   "outputs": [],
   "source": [
    "outputs = model.generate(tokens[\"input_ids\"], max_length=50, num_return_sequences=NUM_QUESTIONS, temperature=0.9)"
   ]
  },
  {
   "cell_type": "code",
   "execution_count": 10,
   "id": "5f2ce197-58ff-4d3a-9265-b23cafc62bc2",
   "metadata": {},
   "outputs": [
    {
     "data": {
      "text/plain": [
       "torch.Size([300, 28])"
      ]
     },
     "execution_count": 10,
     "metadata": {},
     "output_type": "execute_result"
    }
   ],
   "source": [
    "outputs.shape"
   ]
  },
  {
   "cell_type": "code",
   "execution_count": 11,
   "id": "0a009ec8-f184-482a-b012-37a42856a2a6",
   "metadata": {},
   "outputs": [],
   "source": [
    "decoded_outputs = [tokenizer.decode(output, skip_special_tokens=True) for output in outputs]"
   ]
  },
  {
   "cell_type": "code",
   "execution_count": 12,
   "id": "a3d9b655-b3c9-4936-a937-5012b5634e0a",
   "metadata": {},
   "outputs": [],
   "source": [
    "questions = [\n",
    "    \"What is the main event or issue described in the article?\",\n",
    "    \"Who are the primary individuals, groups, or entities involved in the story?\",\n",
    "    \"Where does the event or issue take place, and how is the location relevant?\",\n",
    "    \"When did the events described occur? Is there a timeline of key occurrences?\",\n",
    "    \"Why is this event or issue significant? What are its implications or consequences?\",\n",
    "    \"How does this event or issue relate to other recent events or broader trends?\",\n",
    "    \"What sources are cited, and how credible are they?\",\n",
    "    \"What are the differing viewpoints or opinions presented, if any?\",\n",
    "    \"Are there any apparent biases in the article? If so, what might be the underlying motivations?\",\n",
    "    \"What is the tone of the article? Is it purely informative, or is there an emotional aspect?\",\n",
    "    \"What unanswered questions or ambiguities remain after reading the article?\",\n",
    "    \"How might this article connect to your own knowledge or interests?\",\n",
    "    \"What can be inferred about the future from this article? Are there any predictions or warnings?\",\n",
    "    \"What can be inferred about the future from this article? Are there any predictions or warnings?\",\n",
    "    \"Are there any supporting visuals such as images, charts, or graphs? What information do they convey?\",\n",
    "    \"What are the key quotations or statements that encapsulate the article's main ideas?\"\n",
    "]"
   ]
  },
  {
   "cell_type": "code",
   "execution_count": 13,
   "id": "7a33809c-7e0c-4d4e-a5f9-ab5224d81b87",
   "metadata": {},
   "outputs": [],
   "source": [
    "from transformers import AutoModelForQuestionAnswering, AutoTokenizer, pipeline\n",
    "\n",
    "# model_name = \"deepset/roberta-base-squad2\"\n",
    "model_name = \"deepset/roberta-large-squad2\"\n",
    "\n",
    "# a) Get predictions\n",
    "nlp = pipeline('question-answering', model=model_name, tokenizer=model_name, device=0)"
   ]
  },
  {
   "cell_type": "code",
   "execution_count": 14,
   "id": "4592bcd4-7608-4650-a35b-4ecbc603f56b",
   "metadata": {},
   "outputs": [
    {
     "name": "stdout",
     "output_type": "stream",
     "text": [
      "100\n"
     ]
    }
   ],
   "source": [
    "print(len(news_list))"
   ]
  },
  {
   "cell_type": "code",
   "execution_count": 16,
   "id": "df614be9-7ad2-4452-9032-4d692efbac7b",
   "metadata": {},
   "outputs": [
    {
     "data": {
      "text/plain": [
       "'When you’re ready to tackle a big home renovation or repair, finding a good contractor is a challenge . Getting one to even give you the time of day can be harder than you might think, i n part because of a shortage of skilled tradespeople, and in part because of the economics of construction—your dinky little half bath reno simply may not be profitable enough for an established, busy contractor. This might lead you to hire someone who is a bit less established, which in turn can lead to the nightmare scenario in which they ghost you after starting the work, leaving you with a mess.\\n\\n\\n\\nIf you skipped some of your due diligence in your rush to hire someone, it’s too late to go back and do that now. But there are steps you can take when a contractor vanishes.\\n\\nRead your contract and s tart a paper trail\\n\\nFirst things first: Read your contract. Unless you hired someone under the table and off the books, you have some sort of written agreement with your contractor, and that agreement will detail things like deficient work and non-performance, as well as the precise procedure for ending the contract and essentially firing the contractor. Even though you might be outraged and angry about your contractor’s behavior, you’re still bound by this agreement, and going rogue could cost you, so pay attention.\\n\\nNext, ensure that everything you do from this point forward is documented. Send your contractor a written account of what’s not finished, what they’ve been paid for, and what’s scheduled to happen next. Note any deficient work (unfinished items or poor workmanship) and specify how you want it rectified. Then ask them to respond with a detailed schedule for finishing the work and how they’ll fix the problems.\\n\\nIf they respond with a reasonable explanation and address your concerns, you’ll have to do a vibe check to decide if you want to proceed. Even if their explanation is acceptable, don’t agree to pay anything more until the work they’ve already begun is finished. If you have a contract with a schedule of payments tied to finished work—insist on sticking to that. If you don’t have a contract or it doesn’t have a clear schedule, insist that any discussion of payments comes after they’ve finished what they started.\\n\\nIf you get no response, or the response isn’t satisfactory, refer to your contract and terminate it according to its terms. This probably means writing a formal letter. Once that’s done, your next steps depend on whether the contractor owes you money.\\n\\nHire a new contractor to finish the job\\n\\nIf your old contractor left your project at a clear stopping point and the materials and labor you’ve already paid for are complete and accounted for, all you need to do now is find someone to finish the job. This won’t be any easier than it was to hire the first contractor, but if you didn’t have a formal contract or didn’t do things like check their bond and license status, get references, or have a clear schedule of work and payments, now is your chance to do it right the second time.\\n\\nLeave them a r eview to warn others\\n\\nOnce you’ve severed your relationship with your ghosting contractor, you might consider warning others via the magic of online reviews. If you found your contractor through a service like Angi or HomeAdvisor, leaving negative feedback might save someone else the heartache of hiring this contractor in the future. You could also track down their Google profile or Yelp listing to warn off others.\\n\\nYou can also consider filing a complaint with the Better Business Bureau, though this isn’t any more effective than leaving reviews elsewhere—but spreading the word about this contractor as far and wide as possible may help your others these problems in the future.\\n\\nWhat to do if you already paid a contractor who ghosts you\\n\\nIf your contractor owes you work or money, you have two avenues to pursue:'"
      ]
     },
     "execution_count": 16,
     "metadata": {},
     "output_type": "execute_result"
    }
   ],
   "source": [
    "news_list[0]"
   ]
  },
  {
   "cell_type": "code",
   "execution_count": 15,
   "id": "913a8631-f8f2-48c1-bdea-b23f05925835",
   "metadata": {},
   "outputs": [],
   "source": [
    "QA_inputs = []\n",
    "for i in range (PAGESIZE*NUM_QUESTIONS):\n",
    "    QA_inputs.append(\n",
    "        {\n",
    "            \"question\":decoded_outputs[i],\n",
    "            \"context\":news_list[i//NUM_QUESTIONS]\n",
    "        }\n",
    "    )"
   ]
  },
  {
   "cell_type": "code",
   "execution_count": 21,
   "id": "05485082-e2f4-48b4-b21e-6ef857f22c81",
   "metadata": {},
   "outputs": [],
   "source": [
    "QA_inputs_gpt = []\n",
    "for news in news_list:\n",
    "    for q in questions:\n",
    "        QA_inputs_gpt.append(\n",
    "            {\n",
    "                \"question\":q,\n",
    "                \"context\":news\n",
    "            }\n",
    "        )"
   ]
  },
  {
   "cell_type": "code",
   "execution_count": 18,
   "id": "f08f72ad-d6f0-49e7-8216-688adbc23093",
   "metadata": {},
   "outputs": [],
   "source": [
    "res = nlp(QA_inputs)"
   ]
  },
  {
   "cell_type": "code",
   "execution_count": 19,
   "id": "b457db4d-03df-436e-a4ad-183d2811c901",
   "metadata": {},
   "outputs": [
    {
     "name": "stdout",
     "output_type": "stream",
     "text": [
      "question: what should we do if we find a new contractor is unsatisfactory?\n",
      "\n",
      "context: When you’re ready to tackle a big home renovation or repair, finding a good contractor is a challenge . Getting one to even give you the time of day can be harder than you might think, i n part because of a shortage of skilled tradespeople, and in part because of the economics of construction—your dinky little half bath reno simply may not be profitable enough for an established, busy contractor. This might lead you to hire someone who is a bit less established, which in turn can lead to the nightmare scenario in which they ghost you after starting the work, leaving you with a mess.\n",
      "\n",
      "\n",
      "\n",
      "If you skipped some of your due diligence in your rush to hire someone, it’s too late to go back and do that now. But there are steps you can take when a contractor vanishes.\n",
      "\n",
      "Read your contract and s tart a paper trail\n",
      "\n",
      "First things first: Read your contract. Unless you hired someone under the table and off the books, you have some sort of written agreement with your contractor, and that agreement will detail things like deficient work and non-performance, as well as the precise procedure for ending the contract and essentially firing the contractor. Even though you might be outraged and angry about your contractor’s behavior, you’re still bound by this agreement, and going rogue could cost you, so pay attention.\n",
      "\n",
      "Next, ensure that everything you do from this point forward is documented. Send your contractor a written account of what’s not finished, what they’ve been paid for, and what’s scheduled to happen next. Note any deficient work (unfinished items or poor workmanship) and specify how you want it rectified. Then ask them to respond with a detailed schedule for finishing the work and how they’ll fix the problems.\n",
      "\n",
      "If they respond with a reasonable explanation and address your concerns, you’ll have to do a vibe check to decide if you want to proceed. Even if their explanation is acceptable, don’t agree to pay anything more until the work they’ve already begun is finished. If you have a contract with a schedule of payments tied to finished work—insist on sticking to that. If you don’t have a contract or it doesn’t have a clear schedule, insist that any discussion of payments comes after they’ve finished what they started.\n",
      "\n",
      "If you get no response, or the response isn’t satisfactory, refer to your contract and terminate it according to its terms. This probably means writing a formal letter. Once that’s done, your next steps depend on whether the contractor owes you money.\n",
      "\n",
      "Hire a new contractor to finish the job\n",
      "\n",
      "If your old contractor left your project at a clear stopping point and the materials and labor you’ve already paid for are complete and accounted for, all you need to do now is find someone to finish the job. This won’t be any easier than it was to hire the first contractor, but if you didn’t have a formal contract or didn’t do things like check their bond and license status, get references, or have a clear schedule of work and payments, now is your chance to do it right the second time.\n",
      "\n",
      "Leave them a r eview to warn others\n",
      "\n",
      "Once you’ve severed your relationship with your ghosting contractor, you might consider warning others via the magic of online reviews. If you found your contractor through a service like Angi or HomeAdvisor, leaving negative feedback might save someone else the heartache of hiring this contractor in the future. You could also track down their Google profile or Yelp listing to warn off others.\n",
      "\n",
      "You can also consider filing a complaint with the Better Business Bureau, though this isn’t any more effective than leaving reviews elsewhere—but spreading the word about this contractor as far and wide as possible may help your others these problems in the future.\n",
      "\n",
      "What to do if you already paid a contractor who ghosts you\n",
      "\n",
      "If your contractor owes you work or money, you have two avenues to pursue:\n",
      "\n",
      "answer: refer to your contract and terminate it\n"
     ]
    }
   ],
   "source": [
    "print('question:', decoded_outputs[0])\n",
    "print()\n",
    "print('context:', news_list[0])\n",
    "print()\n",
    "print('answer:', res[0]['answer'])"
   ]
  },
  {
   "cell_type": "code",
   "execution_count": 22,
   "id": "aa6aaa36-869d-4b4f-a545-8a237bd96a82",
   "metadata": {},
   "outputs": [],
   "source": [
    "res_gpt = nlp(QA_inputs_gpt)"
   ]
  },
  {
   "cell_type": "code",
   "execution_count": 23,
   "id": "c3dc9c78-e162-4a49-bb8c-c1dbcc7913e2",
   "metadata": {},
   "outputs": [
    {
     "name": "stdout",
     "output_type": "stream",
     "text": [
      "question: What is the main event or issue described in the article?\n",
      "\n",
      "context: When you’re ready to tackle a big home renovation or repair, finding a good contractor is a challenge . Getting one to even give you the time of day can be harder than you might think, i n part because of a shortage of skilled tradespeople, and in part because of the economics of construction—your dinky little half bath reno simply may not be profitable enough for an established, busy contractor. This might lead you to hire someone who is a bit less established, which in turn can lead to the nightmare scenario in which they ghost you after starting the work, leaving you with a mess.\n",
      "\n",
      "\n",
      "\n",
      "If you skipped some of your due diligence in your rush to hire someone, it’s too late to go back and do that now. But there are steps you can take when a contractor vanishes.\n",
      "\n",
      "Read your contract and s tart a paper trail\n",
      "\n",
      "First things first: Read your contract. Unless you hired someone under the table and off the books, you have some sort of written agreement with your contractor, and that agreement will detail things like deficient work and non-performance, as well as the precise procedure for ending the contract and essentially firing the contractor. Even though you might be outraged and angry about your contractor’s behavior, you’re still bound by this agreement, and going rogue could cost you, so pay attention.\n",
      "\n",
      "Next, ensure that everything you do from this point forward is documented. Send your contractor a written account of what’s not finished, what they’ve been paid for, and what’s scheduled to happen next. Note any deficient work (unfinished items or poor workmanship) and specify how you want it rectified. Then ask them to respond with a detailed schedule for finishing the work and how they’ll fix the problems.\n",
      "\n",
      "If they respond with a reasonable explanation and address your concerns, you’ll have to do a vibe check to decide if you want to proceed. Even if their explanation is acceptable, don’t agree to pay anything more until the work they’ve already begun is finished. If you have a contract with a schedule of payments tied to finished work—insist on sticking to that. If you don’t have a contract or it doesn’t have a clear schedule, insist that any discussion of payments comes after they’ve finished what they started.\n",
      "\n",
      "If you get no response, or the response isn’t satisfactory, refer to your contract and terminate it according to its terms. This probably means writing a formal letter. Once that’s done, your next steps depend on whether the contractor owes you money.\n",
      "\n",
      "Hire a new contractor to finish the job\n",
      "\n",
      "If your old contractor left your project at a clear stopping point and the materials and labor you’ve already paid for are complete and accounted for, all you need to do now is find someone to finish the job. This won’t be any easier than it was to hire the first contractor, but if you didn’t have a formal contract or didn’t do things like check their bond and license status, get references, or have a clear schedule of work and payments, now is your chance to do it right the second time.\n",
      "\n",
      "Leave them a r eview to warn others\n",
      "\n",
      "Once you’ve severed your relationship with your ghosting contractor, you might consider warning others via the magic of online reviews. If you found your contractor through a service like Angi or HomeAdvisor, leaving negative feedback might save someone else the heartache of hiring this contractor in the future. You could also track down their Google profile or Yelp listing to warn off others.\n",
      "\n",
      "You can also consider filing a complaint with the Better Business Bureau, though this isn’t any more effective than leaving reviews elsewhere—but spreading the word about this contractor as far and wide as possible may help your others these problems in the future.\n",
      "\n",
      "What to do if you already paid a contractor who ghosts you\n",
      "\n",
      "If your contractor owes you work or money, you have two avenues to pursue:\n",
      "\n",
      "answer: they ghost you after starting the work\n"
     ]
    }
   ],
   "source": [
    "print('question:', questions[0])\n",
    "print()\n",
    "print('context:', news_list[0])\n",
    "print()\n",
    "print('answer:', res_gpt[0]['answer'])"
   ]
  },
  {
   "cell_type": "code",
   "execution_count": 28,
   "id": "d63c6b19-c517-42b3-aa5f-f653b629e850",
   "metadata": {},
   "outputs": [
    {
     "name": "stdout",
     "output_type": "stream",
     "text": [
      "16\n"
     ]
    }
   ],
   "source": [
    "print(len(questions))"
   ]
  },
  {
   "cell_type": "code",
   "execution_count": 31,
   "id": "9c9f8efd-c462-4294-a64d-f62cfc1c45d5",
   "metadata": {},
   "outputs": [],
   "source": [
    "data = {\n",
    "    \"instruction\":[],\n",
    "    \"output\":[]\n",
    "}\n",
    "\n",
    "for i in range (PAGESIZE*NUM_QUESTIONS):\n",
    "    data[\"instruction\"].append(decoded_outputs[i])\n",
    "    data[\"output\"].append(res[i][\"answer\"])"
   ]
  },
  {
   "cell_type": "code",
   "execution_count": 34,
   "id": "03002fe2-daa2-4cde-a27d-c42f13c302ec",
   "metadata": {},
   "outputs": [],
   "source": [
    "len_q = len(questions)\n",
    "for i in range(len(res_gpt)):\n",
    "    data['instruction'].append(questions[i%len_q])\n",
    "    data['output'].append(res_gpt[i])"
   ]
  },
  {
   "cell_type": "code",
   "execution_count": 35,
   "id": "7dceba31-0817-4c50-8c9f-807f9688ee7b",
   "metadata": {},
   "outputs": [
    {
     "data": {
      "text/plain": [
       "1900"
      ]
     },
     "execution_count": 35,
     "metadata": {},
     "output_type": "execute_result"
    }
   ],
   "source": [
    "len(data['output'])"
   ]
  },
  {
   "cell_type": "code",
   "execution_count": 33,
   "id": "d12ce0c8-ef5f-4f58-a618-c7f2704c8966",
   "metadata": {},
   "outputs": [
    {
     "data": {
      "text/plain": [
       "['What is the main event or issue described in the article?',\n",
       " 'Who are the primary individuals, groups, or entities involved in the story?']"
      ]
     },
     "execution_count": 33,
     "metadata": {},
     "output_type": "execute_result"
    }
   ],
   "source": [
    "questions[:2]"
   ]
  },
  {
   "cell_type": "code",
   "execution_count": null,
   "id": "c916c521-d1a9-482c-aa79-1269cb1a167e",
   "metadata": {},
   "outputs": [],
   "source": []
  }
 ],
 "metadata": {
  "kernelspec": {
   "display_name": "agi",
   "language": "python",
   "name": "agi"
  },
  "language_info": {
   "codemirror_mode": {
    "name": "ipython",
    "version": 3
   },
   "file_extension": ".py",
   "mimetype": "text/x-python",
   "name": "python",
   "nbconvert_exporter": "python",
   "pygments_lexer": "ipython3",
   "version": "3.11.3"
  }
 },
 "nbformat": 4,
 "nbformat_minor": 5
}
